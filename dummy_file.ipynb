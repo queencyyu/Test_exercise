{
 "cells": [
  {
   "cell_type": "code",
   "execution_count": null,
   "id": "8c906dee-249a-40ca-b7a7-e8af59a2d2f8",
   "metadata": {},
   "outputs": [],
   "source": [
    "#This is a dummy file"
   ]
  }
 ],
 "metadata": {
  "kernelspec": {
   "display_name": "Python 3 (ipykernel)",
   "language": "python",
   "name": "python3"
  },
  "language_info": {
   "codemirror_mode": {
    "name": "ipython",
    "version": 3
   },
   "file_extension": ".py",
   "mimetype": "text/x-python",
   "name": "python",
   "nbconvert_exporter": "python",
   "pygments_lexer": "ipython3",
   "version": "3.11.5"
  }
 },
 "nbformat": 4,
 "nbformat_minor": 5
}
